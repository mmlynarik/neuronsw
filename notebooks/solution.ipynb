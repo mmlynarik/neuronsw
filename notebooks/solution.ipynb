{
 "cells": [
  {
   "cell_type": "code",
   "execution_count": 1,
   "metadata": {},
   "outputs": [],
   "source": [
    "from trams.utils import change_cwd_for_jupyter\n",
    "\n",
    "change_cwd_for_jupyter()\n",
    "\n",
    "from trams.dataset import (\n",
    "    load_dataset_from_wav_files,\n",
    "    process_dataset,\n",
    "    print_metadata_statistics,\n",
    "    print_labels_statistics\n",
    ")"
   ]
  },
  {
   "cell_type": "code",
   "execution_count": 2,
   "metadata": {},
   "outputs": [
    {
     "name": "stdout",
     "output_type": "stream",
     "text": [
      "                                count\n",
      "label_name               label       \n",
      "Accelerating_1_New       0        493\n",
      "Accelerating_2_CKD_Long  1        169\n",
      "Accelerating_3_CKD_Short 2         74\n",
      "Accelerating_4_Old       3        410\n",
      "Braking_1_New            4        381\n",
      "Braking_2_CKD_Long       5        143\n",
      "Braking_3_CKD_Short      6         62\n",
      "Braking_4_Old            7        436\n",
      "Negative                 8        828\n",
      "                                          count\n",
      "sample_rate bits_per_sample num_channels       \n",
      "22050       32              1              2996\n"
     ]
    }
   ],
   "source": [
    "dataset = load_dataset_from_wav_files()\n",
    "processed_dataset = process_dataset(dataset)\n",
    "print_labels_statistics(processed_dataset[\"train\"])\n",
    "print_metadata_statistics(processed_dataset[\"train\"])"
   ]
  }
 ],
 "metadata": {
  "kernelspec": {
   "display_name": ".venv",
   "language": "python",
   "name": "python3"
  },
  "language_info": {
   "codemirror_mode": {
    "name": "ipython",
    "version": 3
   },
   "file_extension": ".py",
   "mimetype": "text/x-python",
   "name": "python",
   "nbconvert_exporter": "python",
   "pygments_lexer": "ipython3",
   "version": "3.9.5"
  },
  "orig_nbformat": 4
 },
 "nbformat": 4,
 "nbformat_minor": 2
}
